{
 "cells": [
  {
   "cell_type": "markdown",
   "id": "7872a501",
   "metadata": {},
   "source": [
    "#Answer1"
   ]
  },
  {
   "cell_type": "code",
   "execution_count": 9,
   "id": "359f9c8d",
   "metadata": {},
   "outputs": [
    {
     "name": "stdout",
     "output_type": "stream",
     "text": [
      "enter no.7\n",
      "factorial is: 5040\n"
     ]
    }
   ],
   "source": [
    "a=int(input(\"enter no.\"))\n",
    "j=1\n",
    "if a<0:\n",
    "    print(\"enter positive no.\")\n",
    "elif a==0:\n",
    "    print(\"factorial is 1\")\n",
    "else:\n",
    "    for i in range(1,a+1):\n",
    "        j=i*j\n",
    "    print(\"factorial is:\", j)"
   ]
  },
  {
   "cell_type": "markdown",
   "id": "d3d0d3c5",
   "metadata": {},
   "source": [
    "#Answer2"
   ]
  },
  {
   "cell_type": "code",
   "execution_count": 10,
   "id": "b4d394bf",
   "metadata": {},
   "outputs": [
    {
     "name": "stdout",
     "output_type": "stream",
     "text": [
      "enter no.9\n",
      "9 * 1 = 9\n",
      "9 * 2 = 18\n",
      "9 * 3 = 27\n",
      "9 * 4 = 36\n",
      "9 * 5 = 45\n",
      "9 * 6 = 54\n",
      "9 * 7 = 63\n",
      "9 * 8 = 72\n",
      "9 * 9 = 81\n",
      "9 * 10 = 90\n"
     ]
    }
   ],
   "source": [
    "a=int(input(\"enter no.\"))\n",
    "for i in range(1,11):\n",
    "    print(a, \"*\", i, \"=\", a*i)"
   ]
  },
  {
   "cell_type": "markdown",
   "id": "0f9f4492",
   "metadata": {},
   "source": [
    "#Answer3"
   ]
  },
  {
   "cell_type": "code",
   "execution_count": 17,
   "id": "fa0d242b",
   "metadata": {},
   "outputs": [
    {
     "name": "stdout",
     "output_type": "stream",
     "text": [
      "Enter no.10\n",
      "0 1\n",
      "1 1\n",
      "2 2\n",
      "3 3\n",
      "4 5\n",
      "5 8\n",
      "6 13\n",
      "7 21\n",
      "8 34\n",
      "9 55\n"
     ]
    }
   ],
   "source": [
    "n=int(input(\"Enter no.\"))\n",
    "a=1\n",
    "b=0\n",
    "for i in range(0,n):\n",
    "    a,b=b,a+b\n",
    "    print(i,b)"
   ]
  },
  {
   "cell_type": "code",
   "execution_count": 18,
   "id": "e823e2f6",
   "metadata": {},
   "outputs": [
    {
     "name": "stdout",
     "output_type": "stream",
     "text": [
      "Enter no.10\n",
      "0 1\n",
      "1 1\n",
      "2 2\n",
      "3 3\n",
      "4 5\n",
      "5 8\n",
      "6 13\n",
      "7 21\n",
      "8 34\n",
      "9 55\n"
     ]
    }
   ],
   "source": [
    "n=int(input(\"Enter no.\"))\n",
    "a=1\n",
    "b=0\n",
    "for i in range(0,n):\n",
    "    c=a\n",
    "    a=b\n",
    "    b=b+c\n",
    "    print(i,b)"
   ]
  },
  {
   "cell_type": "markdown",
   "id": "077fc98f",
   "metadata": {},
   "source": [
    "#Answer4"
   ]
  },
  {
   "cell_type": "code",
   "execution_count": 18,
   "id": "b86f8eff",
   "metadata": {},
   "outputs": [
    {
     "name": "stdout",
     "output_type": "stream",
     "text": [
      "enter no.407\n",
      "Armstrong\n"
     ]
    }
   ],
   "source": [
    "n=int(input(\"enter no.\"))\n",
    "a=0\n",
    "q=n\n",
    "while q>0:\n",
    "    r=q%10\n",
    "    a=a+(r**3)\n",
    "    q=int(q/10)\n",
    "if n==a:\n",
    "    print(\"Armstrong\")\n",
    "else:\n",
    "    print(\"Not armstrong\")"
   ]
  },
  {
   "cell_type": "markdown",
   "id": "d05468ed",
   "metadata": {},
   "source": [
    "#Answer5"
   ]
  },
  {
   "cell_type": "code",
   "execution_count": 22,
   "id": "242e67b8",
   "metadata": {},
   "outputs": [
    {
     "name": "stdout",
     "output_type": "stream",
     "text": [
      "Enter interval1000\n",
      "1\n",
      "153\n",
      "370\n",
      "371\n",
      "407\n"
     ]
    }
   ],
   "source": [
    "n=int(input(\"Enter interval\"))\n",
    "for i in range(1,n+1):\n",
    "    a=0\n",
    "    q=i\n",
    "    while q>0:\n",
    "        r=q%10\n",
    "        a=a+(r**3)\n",
    "        q=int(q/10)\n",
    "    if i==a:\n",
    "        print(i)"
   ]
  },
  {
   "cell_type": "markdown",
   "id": "ae818cd5",
   "metadata": {},
   "source": [
    "#Answer6"
   ]
  },
  {
   "cell_type": "code",
   "execution_count": 24,
   "id": "d4b9f222",
   "metadata": {},
   "outputs": [
    {
     "name": "stdout",
     "output_type": "stream",
     "text": [
      "enter no.: 10\n",
      "55\n"
     ]
    }
   ],
   "source": [
    "n=int(input(\"enter no.: \"))\n",
    "sum=0\n",
    "for i in range(0,n+1):\n",
    "    sum=sum+i\n",
    "print(sum)"
   ]
  },
  {
   "cell_type": "code",
   "execution_count": null,
   "id": "f03d6d34",
   "metadata": {},
   "outputs": [],
   "source": []
  }
 ],
 "metadata": {
  "kernelspec": {
   "display_name": "Python 3 (ipykernel)",
   "language": "python",
   "name": "python3"
  },
  "language_info": {
   "codemirror_mode": {
    "name": "ipython",
    "version": 3
   },
   "file_extension": ".py",
   "mimetype": "text/x-python",
   "name": "python",
   "nbconvert_exporter": "python",
   "pygments_lexer": "ipython3",
   "version": "3.9.7"
  }
 },
 "nbformat": 4,
 "nbformat_minor": 5
}
